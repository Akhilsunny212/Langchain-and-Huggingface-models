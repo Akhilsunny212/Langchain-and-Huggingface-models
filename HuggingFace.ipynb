{
 "cells": [
  {
   "cell_type": "markdown",
   "id": "350f2346-fdbf-4e9d-8cde-987561bda3f4",
   "metadata": {},
   "source": [
    "# Using huggingface models with langchain"
   ]
  },

  {
   "cell_type": "markdown",
   "id": "ff9e1637-b8bc-467b-9841-c266a1538507",
   "metadata": {},
   "source": [
    "### install the below packages"
   ]
  },

  {
   "cell_type": "code",
   "execution_count": null,
   "id": "ff60f076-84e3-4964-a733-bba6c1d5372a",
   "metadata": {
    "collapsed": true,
    "jupyter": {
     "outputs_hidden": true
    }
   },

   "outputs": [],
   "source": [
    "!pip install huggingface_hub\n",
    "!pip install transformers\n",
    "!pip install bitsandbytes\n",
    "!pip install accelerate"
   ]
  },
  {
   "cell_type": "code",
   "execution_count": 43,
   "id": "3e0d83a1-bf9f-4bd1-8478-b9751bf5520c",
   "metadata": {},
   "outputs": [],
   "source": [
    "from langchain import PromptTemplate, HuggingFaceHub, LLMChain"
   ]
  },
  {
   "cell_type": "code",
   "execution_count": 45,
   "id": "982414fa-c1ad-4b0a-81df-2242f9565ffc",
   "metadata": {},
   "outputs": [],
   "source": [
    "import os\n",
    "os.environ['HUGGINGFACEHUB_API_TOKEN']=\"your huggingface api_key\""
   ]
  },
  {
   "cell_type": "code",
   "execution_count": 61,
   "id": "133b1a72-4867-4231-b0dd-743fc10c517d",
   "metadata": {},
   "outputs": [],
   "source": [
    "prompt = PromptTemplate.from_template(\"who won recent {event}\")"
   ]
  },
  {
   "cell_type": "code",
   "execution_count": 58,
   "id": "1fe28a00-dbfe-4505-9ef3-d44a11d1153c",
   "metadata": {},
   "outputs": [],
   "source": [
    "chain=LLMChain(llm=HuggingFaceHub(repo_id=\"google/flan-t5-base\"),prompt=prompt)\n"
   ]
  },
  {
   "cell_type": "code",
   "execution_count": 60,
   "id": "9a04435a-022e-4c37-a147-b636f932b906",
   "metadata": {},
   "outputs": [
    {
     "data": {
      "text/plain": [
       "'Pakistan'"
      ]
     },
     "execution_count": 60,
     "metadata": {},
     "output_type": "execute_result"
    }
   ],
   "source": [
    "chain.run(\"2011 cricket world cup\")"
   ]
  },
  {
   "cell_type": "markdown",
   "id": "f435c267-a7f5-4c17-bd6e-35f9adfad448",
   "metadata": {},
   "source": [
    "### Download the models locally and use them"
   ]
  },
  {
   "cell_type": "code",
   "execution_count": 25,
   "id": "e4167f1d-b47c-4c6e-8ebf-31fbca3284a8",
   "metadata": {},
   "outputs": [],
   "source": [
    "from langchain.llms import HuggingFacePipeline\n",
    "import torch\n",
    "from transformers import AutoTokenizer, AutoModelForCausalLM, pipeline, AutoModelForSeq2SeqLM"
   ]
  },
  {
   "cell_type": "code",
   "execution_count": 41,
   "id": "7ec98a75-17b1-4b75-a1b6-5ec4f89dbcc6",
   "metadata": {},
   "outputs": [],
   "source": [
    "model_id = \"google/byt5-small\""
   ]
  },
  {
   "cell_type": "code",
   "execution_count": null,
   "id": "21666fa8-2c6e-4e4f-a402-3564030ff4f7",
   "metadata": {},
   "outputs": [],
   "source": [
    "tokenizer = AutoTokenizer.from_pretrained(model_id)"
   ]
  },
  {
   "cell_type": "code",
   "execution_count": null,
   "id": "b24f8dfa-519e-48bc-9227-668dc935caf3",
   "metadata": {},
   "outputs": [],
   "source": [
    "model= AutoModelForSeq2SeqLM.from_pretrained(model_id,device_map='auto')"
   ]
  },
  {
   "cell_type": "code",
   "execution_count": 27,
   "id": "303a59ed-cf3d-4692-87cd-3d9806107f9e",
   "metadata": {},
   "outputs": [],
   "source": [
    "pipeline=pipeline(\"text2text-generation\",model=model,tokenizer=tokenizer,max_length=128)"
   ]
  },
  {
   "cell_type": "code",
   "execution_count": null,
   "id": "8b812d0e-acf9-47bc-a0d4-c48181f6f606",
   "metadata": {},
   "outputs": [],
   "source": [
    "local_llm=HuggingFacePipeline(pipeline=pipeline)"
   ]
  },
  {
   "cell_type": "code",
   "execution_count": 20,
   "id": "2f60167a-618d-4aff-89d2-137c1bd640be",
   "metadata": {},
   "outputs": [],
   "source": [
    "prompt=PromptTemplate.from_template(\"tell me about football player {name}\")"
   ]
  },
  {
   "cell_type": "code",
   "execution_count": 30,
   "id": "2d1406d8-0c96-48bf-adaf-e8c0b09f7f17",
   "metadata": {},
   "outputs": [],
   "source": [
    "chain=LLMChain(llm=local_llm,prompt=prompt)"
   ]
  },
  {
   "cell_type": "code",
   "execution_count": 40,
   "id": "b6f7edc3-136e-4e09-af4b-5f9fe6d16b3d",
   "metadata": {},
   "outputs": [
    {
     "data": {
      "text/plain": [
       "'i am a cricketer who plays for ncr'"
      ]
     },
     "execution_count": 40,
     "metadata": {},
     "output_type": "execute_result"
    }
   ],
   "source": [
    "chain.run(\"messi\")"
   ]
  },
  {
   "cell_type": "code",
   "execution_count": 35,
   "id": "9d53eebf-b83d-4ae6-bd32-6bd55870f719",
   "metadata": {},
   "outputs": [],
   "source": [
    "prompt1=PromptTemplate.from_template(\"can you tell me about cricket player {name}\")"
   ]
  },
  {
   "cell_type": "code",
   "execution_count": 38,
   "id": "dc5ef66d-d747-438f-a8ed-5121549f55fd",
   "metadata": {},
   "outputs": [],
   "source": [
    "chain1=LLMChain(llm=local_llm,prompt=prompt1)"
   ]
  },
  {
   "cell_type": "code",
   "execution_count": 39,
   "id": "028985d0-df7a-448b-90f3-44c523217250",
   "metadata": {},
   "outputs": [
    {
     "data": {
      "text/plain": [
       "'ms dhoni'"
      ]
     },
     "execution_count": 39,
     "metadata": {},
     "output_type": "execute_result"
    }
   ],
   "source": [
    "chain1.run(\"ms dhoni\")"
   ]
  },
  {
   "cell_type": "markdown",
   "id": "a3ffd3fd-ad22-4ec9-979e-820e48226454",
   "metadata": {},
   "source": [
    "#### These models are not as accurate as the OpenAI models, which is why their outputs are not accurate."
   ]
  }
 ],
 "metadata": {
  "kernelspec": {
   "display_name": "Python 3 (ipykernel)",
   "language": "python",
   "name": "python3"
  },
  "language_info": {
   "codemirror_mode": {
    "name": "ipython",
    "version": 3
   },
   "file_extension": ".py",
   "mimetype": "text/x-python",
   "name": "python",
   "nbconvert_exporter": "python",
   "pygments_lexer": "ipython3",
   "version": "3.11.5"
  }
 },
 "nbformat": 4,
 "nbformat_minor": 5
}
